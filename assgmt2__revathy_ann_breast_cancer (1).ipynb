{
  "nbformat": 4,
  "nbformat_minor": 0,
  "metadata": {
    "colab": {
      "provenance": []
    },
    "kernelspec": {
      "name": "python3",
      "display_name": "Python 3"
    },
    "language_info": {
      "name": "python"
    },
    "accelerator": "GPU",
    "gpuClass": "standard"
  },
  "cells": [
    {
      "cell_type": "code",
      "execution_count": 1,
      "metadata": {
        "id": "iuDzBIVnvOUc"
      },
      "outputs": [],
      "source": [
        "import pandas as pd"
      ]
    },
    {
      "cell_type": "code",
      "source": [
        "data = pd.read_csv(\"breastcancer.csv\")"
      ],
      "metadata": {
        "id": "XzFPgZzPvp5y"
      },
      "execution_count": 2,
      "outputs": []
    },
    {
      "cell_type": "code",
      "source": [
        "data.columns"
      ],
      "metadata": {
        "colab": {
          "base_uri": "https://localhost:8080/"
        },
        "id": "jgWXKusHvuz_",
        "outputId": "b6402084-8766-4d78-8acf-08756a86b30d"
      },
      "execution_count": 3,
      "outputs": [
        {
          "output_type": "execute_result",
          "data": {
            "text/plain": [
              "Index(['id', 'diagnosis', 'radius_mean', 'texture_mean', 'perimeter_mean',\n",
              "       'area_mean', 'smoothness_mean', 'compactness_mean', 'concavity_mean',\n",
              "       'concave points_mean', 'symmetry_mean', 'fractal_dimension_mean',\n",
              "       'radius_se', 'texture_se', 'perimeter_se', 'area_se', 'smoothness_se',\n",
              "       'compactness_se', 'concavity_se', 'concave points_se', 'symmetry_se',\n",
              "       'fractal_dimension_se', 'radius_worst', 'texture_worst',\n",
              "       'perimeter_worst', 'area_worst', 'smoothness_worst',\n",
              "       'compactness_worst', 'concavity_worst', 'concave points_worst',\n",
              "       'symmetry_worst', 'fractal_dimension_worst', 'Unnamed: 32'],\n",
              "      dtype='object')"
            ]
          },
          "metadata": {},
          "execution_count": 3
        }
      ]
    },
    {
      "cell_type": "code",
      "source": [
        "data.isna().sum()"
      ],
      "metadata": {
        "colab": {
          "base_uri": "https://localhost:8080/"
        },
        "id": "WBV-ReCQv0qc",
        "outputId": "f0ba85bf-f0b5-4806-d2da-e77a86469dd0"
      },
      "execution_count": 4,
      "outputs": [
        {
          "output_type": "execute_result",
          "data": {
            "text/plain": [
              "id                           0\n",
              "diagnosis                    0\n",
              "radius_mean                  0\n",
              "texture_mean                 0\n",
              "perimeter_mean               0\n",
              "area_mean                    0\n",
              "smoothness_mean              0\n",
              "compactness_mean             0\n",
              "concavity_mean               0\n",
              "concave points_mean          0\n",
              "symmetry_mean                0\n",
              "fractal_dimension_mean       0\n",
              "radius_se                    0\n",
              "texture_se                   0\n",
              "perimeter_se                 0\n",
              "area_se                      0\n",
              "smoothness_se                0\n",
              "compactness_se               0\n",
              "concavity_se                 0\n",
              "concave points_se            0\n",
              "symmetry_se                  0\n",
              "fractal_dimension_se         0\n",
              "radius_worst                 0\n",
              "texture_worst                0\n",
              "perimeter_worst              0\n",
              "area_worst                   0\n",
              "smoothness_worst             0\n",
              "compactness_worst            0\n",
              "concavity_worst              0\n",
              "concave points_worst         0\n",
              "symmetry_worst               0\n",
              "fractal_dimension_worst      0\n",
              "Unnamed: 32                569\n",
              "dtype: int64"
            ]
          },
          "metadata": {},
          "execution_count": 4
        }
      ]
    },
    {
      "cell_type": "code",
      "source": [
        "x = data[[ 'radius_mean', 'texture_mean', 'perimeter_mean',\n",
        "       'area_mean', 'smoothness_mean', 'compactness_mean', 'concavity_mean',\n",
        "       'concave points_mean', 'symmetry_mean', 'fractal_dimension_mean',\n",
        "       'radius_se', 'texture_se', 'perimeter_se', 'area_se', 'smoothness_se',\n",
        "       'compactness_se', 'concavity_se', 'concave points_se', 'symmetry_se',\n",
        "       'fractal_dimension_se', 'radius_worst', 'texture_worst',\n",
        "       'perimeter_worst', 'area_worst', 'smoothness_worst',\n",
        "       'compactness_worst', 'concavity_worst', 'concave points_worst',\n",
        "       'symmetry_worst', 'fractal_dimension_worst']]"
      ],
      "metadata": {
        "id": "c8Cb_VCHwBTZ"
      },
      "execution_count": 5,
      "outputs": []
    },
    {
      "cell_type": "code",
      "source": [
        "y = data['diagnosis']"
      ],
      "metadata": {
        "id": "VxFFlWGSwPQ6"
      },
      "execution_count": 6,
      "outputs": []
    },
    {
      "cell_type": "code",
      "source": [
        "y.value_counts()"
      ],
      "metadata": {
        "colab": {
          "base_uri": "https://localhost:8080/"
        },
        "id": "1A2yIpuVwT4q",
        "outputId": "f7563abe-96a5-48d0-808a-1a2983cb6703"
      },
      "execution_count": 7,
      "outputs": [
        {
          "output_type": "execute_result",
          "data": {
            "text/plain": [
              "B    357\n",
              "M    212\n",
              "Name: diagnosis, dtype: int64"
            ]
          },
          "metadata": {},
          "execution_count": 7
        }
      ]
    },
    {
      "cell_type": "code",
      "source": [
        "y  = y.map({\"B\":0,\"M\":1})"
      ],
      "metadata": {
        "id": "eZdmKLC6wU4S"
      },
      "execution_count": 8,
      "outputs": []
    },
    {
      "cell_type": "code",
      "source": [
        "from sklearn.model_selection import train_test_split"
      ],
      "metadata": {
        "id": "NXqNESkVwfsV"
      },
      "execution_count": 9,
      "outputs": []
    },
    {
      "cell_type": "code",
      "source": [
        "x_train, x_test, y_train, y_test = train_test_split(x,y,\n",
        "                                                     test_size=0.2,\n",
        "                                                     random_state = 134)"
      ],
      "metadata": {
        "id": "MlOUwLc8wpK8"
      },
      "execution_count": 10,
      "outputs": []
    },
    {
      "cell_type": "code",
      "source": [
        "x_train.shape"
      ],
      "metadata": {
        "colab": {
          "base_uri": "https://localhost:8080/"
        },
        "id": "DAFGrVTrxaht",
        "outputId": "50f8f9e6-073e-400c-b78d-64291f41c0e9"
      },
      "execution_count": 11,
      "outputs": [
        {
          "output_type": "execute_result",
          "data": {
            "text/plain": [
              "(455, 30)"
            ]
          },
          "metadata": {},
          "execution_count": 11
        }
      ]
    },
    {
      "cell_type": "code",
      "source": [
        "from tensorflow.keras.models import Sequential"
      ],
      "metadata": {
        "id": "I95cXZ8Zwzcv"
      },
      "execution_count": 12,
      "outputs": []
    },
    {
      "cell_type": "code",
      "source": [
        "from tensorflow.keras.layers import Dense"
      ],
      "metadata": {
        "id": "iE_jtd__xHOc"
      },
      "execution_count": 13,
      "outputs": []
    },
    {
      "cell_type": "markdown",
      "source": [
        "MODEL1"
      ],
      "metadata": {
        "id": "dSI_9BKgqwm3"
      }
    },
    {
      "cell_type": "code",
      "source": [
        "model1 = Sequential()\n",
        "model1.add(Dense(32, input_shape = (30,), activation = \"relu\"))\n",
        "model1.add(Dense(32, activation = \"relu\"))\n",
        "model1.add(Dense(1, activation = \"sigmoid\"))\n",
        "model1.summary()"
      ],
      "metadata": {
        "colab": {
          "base_uri": "https://localhost:8080/"
        },
        "id": "PgqN-gzXxKku",
        "outputId": "1cf3832a-5c5f-4a51-d46a-6ea28dafa8a0"
      },
      "execution_count": 14,
      "outputs": [
        {
          "output_type": "stream",
          "name": "stdout",
          "text": [
            "Model: \"sequential\"\n",
            "_________________________________________________________________\n",
            " Layer (type)                Output Shape              Param #   \n",
            "=================================================================\n",
            " dense (Dense)               (None, 32)                992       \n",
            "                                                                 \n",
            " dense_1 (Dense)             (None, 32)                1056      \n",
            "                                                                 \n",
            " dense_2 (Dense)             (None, 1)                 33        \n",
            "                                                                 \n",
            "=================================================================\n",
            "Total params: 2,081\n",
            "Trainable params: 2,081\n",
            "Non-trainable params: 0\n",
            "_________________________________________________________________\n"
          ]
        }
      ]
    },
    {
      "cell_type": "code",
      "source": [
        "model1.compile(optimizer = \"sgd\", loss = \"binary_crossentropy\",\n",
        "               metrics = [\"accuracy\"])"
      ],
      "metadata": {
        "id": "b2a5v4RExwCY"
      },
      "execution_count": 15,
      "outputs": []
    },
    {
      "cell_type": "code",
      "source": [
        "model1.fit(x_train, y_train, epochs = 10)"
      ],
      "metadata": {
        "colab": {
          "base_uri": "https://localhost:8080/"
        },
        "id": "xlDD9NZ1x7H0",
        "outputId": "974f6ed8-7687-47ff-e673-e9e186f256d2"
      },
      "execution_count": 16,
      "outputs": [
        {
          "output_type": "stream",
          "name": "stdout",
          "text": [
            "Epoch 1/10\n",
            "15/15 [==============================] - 1s 3ms/step - loss: 146.5438 - accuracy: 0.5978\n",
            "Epoch 2/10\n",
            "15/15 [==============================] - 0s 3ms/step - loss: 0.6894 - accuracy: 0.6308\n",
            "Epoch 3/10\n",
            "15/15 [==============================] - 0s 3ms/step - loss: 0.6874 - accuracy: 0.6308\n",
            "Epoch 4/10\n",
            "15/15 [==============================] - 0s 3ms/step - loss: 0.6853 - accuracy: 0.6308\n",
            "Epoch 5/10\n",
            "15/15 [==============================] - 0s 3ms/step - loss: 0.6833 - accuracy: 0.6308\n",
            "Epoch 6/10\n",
            "15/15 [==============================] - 0s 3ms/step - loss: 0.6815 - accuracy: 0.6308\n",
            "Epoch 7/10\n",
            "15/15 [==============================] - 0s 3ms/step - loss: 0.6797 - accuracy: 0.6308\n",
            "Epoch 8/10\n",
            "15/15 [==============================] - 0s 3ms/step - loss: 0.6782 - accuracy: 0.6308\n",
            "Epoch 9/10\n",
            "15/15 [==============================] - 0s 3ms/step - loss: 0.6767 - accuracy: 0.6308\n",
            "Epoch 10/10\n",
            "15/15 [==============================] - 0s 3ms/step - loss: 0.6755 - accuracy: 0.6308\n"
          ]
        },
        {
          "output_type": "execute_result",
          "data": {
            "text/plain": [
              "<keras.callbacks.History at 0x7f88ac774550>"
            ]
          },
          "metadata": {},
          "execution_count": 16
        }
      ]
    },
    {
      "cell_type": "markdown",
      "source": [
        "MODEL2"
      ],
      "metadata": {
        "id": "IKRXhBTmsEPf"
      }
    },
    {
      "cell_type": "code",
      "source": [
        "model2 = Sequential()\n",
        "model2.add(Dense(32, input_shape = (30,), activation = \"linear\"))\n",
        "model2.add(Dense(32, activation = \"linear\"))\n",
        "model2.add(Dense(1, activation = \"sigmoid\"))\n",
        "model2.summary()"
      ],
      "metadata": {
        "colab": {
          "base_uri": "https://localhost:8080/"
        },
        "outputId": "b3144756-c0bc-4a0c-9803-84c7106f14f8",
        "id": "-HgA9F_d__sB"
      },
      "execution_count": 17,
      "outputs": [
        {
          "output_type": "stream",
          "name": "stdout",
          "text": [
            "Model: \"sequential_1\"\n",
            "_________________________________________________________________\n",
            " Layer (type)                Output Shape              Param #   \n",
            "=================================================================\n",
            " dense_3 (Dense)             (None, 32)                992       \n",
            "                                                                 \n",
            " dense_4 (Dense)             (None, 32)                1056      \n",
            "                                                                 \n",
            " dense_5 (Dense)             (None, 1)                 33        \n",
            "                                                                 \n",
            "=================================================================\n",
            "Total params: 2,081\n",
            "Trainable params: 2,081\n",
            "Non-trainable params: 0\n",
            "_________________________________________________________________\n"
          ]
        }
      ]
    },
    {
      "cell_type": "code",
      "source": [
        "model2.compile(optimizer = \"adam\", loss = \"binary_crossentropy\",\n",
        "               metrics = [\"accuracy\"])"
      ],
      "metadata": {
        "id": "QUO8B_ieBh78"
      },
      "execution_count": 18,
      "outputs": []
    },
    {
      "cell_type": "code",
      "source": [
        "model2.fit(x_train, y_train, epochs = 15)"
      ],
      "metadata": {
        "colab": {
          "base_uri": "https://localhost:8080/"
        },
        "outputId": "18938074-75b3-44fe-dcb7-2308346c911e",
        "id": "6YiXwdi7Bt7Z"
      },
      "execution_count": 19,
      "outputs": [
        {
          "output_type": "stream",
          "name": "stdout",
          "text": [
            "Epoch 1/15\n",
            "15/15 [==============================] - 3s 5ms/step - loss: 21.5408 - accuracy: 0.5736\n",
            "Epoch 2/15\n",
            "15/15 [==============================] - 0s 5ms/step - loss: 1.7032 - accuracy: 0.8198\n",
            "Epoch 3/15\n",
            "15/15 [==============================] - 0s 5ms/step - loss: 1.2574 - accuracy: 0.8703\n",
            "Epoch 4/15\n",
            "15/15 [==============================] - 0s 5ms/step - loss: 0.8575 - accuracy: 0.8813\n",
            "Epoch 5/15\n",
            "15/15 [==============================] - 0s 5ms/step - loss: 0.7062 - accuracy: 0.8923\n",
            "Epoch 6/15\n",
            "15/15 [==============================] - 0s 5ms/step - loss: 0.7889 - accuracy: 0.8813\n",
            "Epoch 7/15\n",
            "15/15 [==============================] - 0s 5ms/step - loss: 0.8633 - accuracy: 0.8813\n",
            "Epoch 8/15\n",
            "15/15 [==============================] - 0s 4ms/step - loss: 1.3369 - accuracy: 0.8659\n",
            "Epoch 9/15\n",
            "15/15 [==============================] - 0s 5ms/step - loss: 0.7903 - accuracy: 0.8791\n",
            "Epoch 10/15\n",
            "15/15 [==============================] - 0s 5ms/step - loss: 0.5673 - accuracy: 0.8989\n",
            "Epoch 11/15\n",
            "15/15 [==============================] - 0s 4ms/step - loss: 0.6166 - accuracy: 0.8989\n",
            "Epoch 12/15\n",
            "15/15 [==============================] - 0s 5ms/step - loss: 0.6308 - accuracy: 0.8835\n",
            "Epoch 13/15\n",
            "15/15 [==============================] - 0s 5ms/step - loss: 1.9181 - accuracy: 0.8264\n",
            "Epoch 14/15\n",
            "15/15 [==============================] - 0s 4ms/step - loss: 0.9922 - accuracy: 0.8791\n",
            "Epoch 15/15\n",
            "15/15 [==============================] - 0s 5ms/step - loss: 1.4694 - accuracy: 0.8352\n"
          ]
        },
        {
          "output_type": "execute_result",
          "data": {
            "text/plain": [
              "<keras.callbacks.History at 0x7f88ac09f6a0>"
            ]
          },
          "metadata": {},
          "execution_count": 19
        }
      ]
    },
    {
      "cell_type": "markdown",
      "source": [
        "MODEL 3"
      ],
      "metadata": {
        "id": "AJ3JNXjEsfaX"
      }
    },
    {
      "cell_type": "code",
      "source": [
        "\n",
        "\n",
        "model3 = Sequential()\n",
        "model3.add(Dense(32, input_shape = (30,), activation = \"relu\"))\n",
        "model3.add(Dense(32, activation = \"relu\"))\n",
        "model3.add(Dense(1, activation = \"sigmoid\"))\n",
        "model3.summary()"
      ],
      "metadata": {
        "colab": {
          "base_uri": "https://localhost:8080/"
        },
        "id": "eGTOqCehsixc",
        "outputId": "21b88cda-af26-4e89-9ee8-ff4219b8b47e"
      },
      "execution_count": 20,
      "outputs": [
        {
          "output_type": "stream",
          "name": "stdout",
          "text": [
            "Model: \"sequential_2\"\n",
            "_________________________________________________________________\n",
            " Layer (type)                Output Shape              Param #   \n",
            "=================================================================\n",
            " dense_6 (Dense)             (None, 32)                992       \n",
            "                                                                 \n",
            " dense_7 (Dense)             (None, 32)                1056      \n",
            "                                                                 \n",
            " dense_8 (Dense)             (None, 1)                 33        \n",
            "                                                                 \n",
            "=================================================================\n",
            "Total params: 2,081\n",
            "Trainable params: 2,081\n",
            "Non-trainable params: 0\n",
            "_________________________________________________________________\n"
          ]
        }
      ]
    },
    {
      "cell_type": "code",
      "source": [
        "model3.compile(optimizer = \"adam\", loss = \"binary_crossentropy\",\n",
        "               metrics = [\"accuracy\"])"
      ],
      "metadata": {
        "id": "xsVaP43BtBqg"
      },
      "execution_count": 21,
      "outputs": []
    },
    {
      "cell_type": "code",
      "source": [
        "model3.fit(x_train, y_train, epochs = 20)"
      ],
      "metadata": {
        "colab": {
          "base_uri": "https://localhost:8080/"
        },
        "outputId": "e9c5cb7d-58ad-4ec2-8d10-8a5c7da2697a",
        "id": "dxuV0krnv8-Y"
      },
      "execution_count": 22,
      "outputs": [
        {
          "output_type": "stream",
          "name": "stdout",
          "text": [
            "Epoch 1/20\n",
            "15/15 [==============================] - 2s 6ms/step - loss: 32.8448 - accuracy: 0.3670\n",
            "Epoch 2/20\n",
            "15/15 [==============================] - 0s 6ms/step - loss: 11.6971 - accuracy: 0.3253\n",
            "Epoch 3/20\n",
            "15/15 [==============================] - 0s 5ms/step - loss: 8.3697 - accuracy: 0.3956\n",
            "Epoch 4/20\n",
            "15/15 [==============================] - 0s 5ms/step - loss: 3.5638 - accuracy: 0.4505\n",
            "Epoch 5/20\n",
            "15/15 [==============================] - 0s 6ms/step - loss: 1.1535 - accuracy: 0.6835\n",
            "Epoch 6/20\n",
            "15/15 [==============================] - 0s 6ms/step - loss: 0.4277 - accuracy: 0.8505\n",
            "Epoch 7/20\n",
            "15/15 [==============================] - 0s 6ms/step - loss: 0.3331 - accuracy: 0.8857\n",
            "Epoch 8/20\n",
            "15/15 [==============================] - 0s 9ms/step - loss: 0.2509 - accuracy: 0.9165\n",
            "Epoch 9/20\n",
            "15/15 [==============================] - 0s 7ms/step - loss: 0.2122 - accuracy: 0.9121\n",
            "Epoch 10/20\n",
            "15/15 [==============================] - 0s 5ms/step - loss: 0.2144 - accuracy: 0.9165\n",
            "Epoch 11/20\n",
            "15/15 [==============================] - 0s 9ms/step - loss: 0.1957 - accuracy: 0.9209\n",
            "Epoch 12/20\n",
            "15/15 [==============================] - 0s 6ms/step - loss: 0.1814 - accuracy: 0.9275\n",
            "Epoch 13/20\n",
            "15/15 [==============================] - 0s 7ms/step - loss: 0.2087 - accuracy: 0.9143\n",
            "Epoch 14/20\n",
            "15/15 [==============================] - 0s 6ms/step - loss: 0.1811 - accuracy: 0.9363\n",
            "Epoch 15/20\n",
            "15/15 [==============================] - 0s 4ms/step - loss: 0.1756 - accuracy: 0.9341\n",
            "Epoch 16/20\n",
            "15/15 [==============================] - 0s 11ms/step - loss: 0.2688 - accuracy: 0.9011\n",
            "Epoch 17/20\n",
            "15/15 [==============================] - 0s 7ms/step - loss: 0.2246 - accuracy: 0.9187\n",
            "Epoch 18/20\n",
            "15/15 [==============================] - 0s 7ms/step - loss: 0.1744 - accuracy: 0.9407\n",
            "Epoch 19/20\n",
            "15/15 [==============================] - 0s 5ms/step - loss: 0.3435 - accuracy: 0.9011\n",
            "Epoch 20/20\n",
            "15/15 [==============================] - 0s 5ms/step - loss: 0.3025 - accuracy: 0.8901\n"
          ]
        },
        {
          "output_type": "execute_result",
          "data": {
            "text/plain": [
              "<keras.callbacks.History at 0x7f88a1ac7910>"
            ]
          },
          "metadata": {},
          "execution_count": 22
        }
      ]
    },
    {
      "cell_type": "markdown",
      "source": [
        "MODEL4"
      ],
      "metadata": {
        "id": "IM_XRbPsuf50"
      }
    },
    {
      "cell_type": "code",
      "source": [
        "\n",
        "\n",
        "model4 = Sequential()\n",
        "model4.add(Dense(64, input_shape = (30,), activation = \"relu\"))\n",
        "model4.add(Dense(64, activation = \"relu\"))\n",
        "model4.add(Dense(1, activation = \"sigmoid\"))\n",
        "model4.summary()"
      ],
      "metadata": {
        "colab": {
          "base_uri": "https://localhost:8080/"
        },
        "outputId": "89ef22c0-8320-470e-b398-d3c60a7f5153",
        "id": "9-imSNxLu6Fv"
      },
      "execution_count": 23,
      "outputs": [
        {
          "output_type": "stream",
          "name": "stdout",
          "text": [
            "Model: \"sequential_3\"\n",
            "_________________________________________________________________\n",
            " Layer (type)                Output Shape              Param #   \n",
            "=================================================================\n",
            " dense_9 (Dense)             (None, 64)                1984      \n",
            "                                                                 \n",
            " dense_10 (Dense)            (None, 64)                4160      \n",
            "                                                                 \n",
            " dense_11 (Dense)            (None, 1)                 65        \n",
            "                                                                 \n",
            "=================================================================\n",
            "Total params: 6,209\n",
            "Trainable params: 6,209\n",
            "Non-trainable params: 0\n",
            "_________________________________________________________________\n"
          ]
        }
      ]
    },
    {
      "cell_type": "code",
      "source": [
        "model4.compile(optimizer = \"adam\", loss = \"binary_crossentropy\",\n",
        "               metrics = [\"accuracy\"])"
      ],
      "metadata": {
        "id": "MJetkMZYvegX"
      },
      "execution_count": 24,
      "outputs": []
    },
    {
      "cell_type": "code",
      "source": [],
      "metadata": {
        "id": "7LRtebX1vr7t"
      },
      "execution_count": 24,
      "outputs": []
    },
    {
      "cell_type": "code",
      "source": [
        "model4.fit(x_train, y_train, epochs = 30)"
      ],
      "metadata": {
        "colab": {
          "base_uri": "https://localhost:8080/"
        },
        "outputId": "a575ffa1-bfbc-4679-e917-c5bc949376fa",
        "id": "wc13j1I4wCom"
      },
      "execution_count": 25,
      "outputs": [
        {
          "output_type": "stream",
          "name": "stdout",
          "text": [
            "Epoch 1/30\n",
            "15/15 [==============================] - 2s 3ms/step - loss: 3.2643 - accuracy: 0.5011\n",
            "Epoch 2/30\n",
            "15/15 [==============================] - 0s 4ms/step - loss: 0.6125 - accuracy: 0.7956\n",
            "Epoch 3/30\n",
            "15/15 [==============================] - 0s 3ms/step - loss: 0.4083 - accuracy: 0.8505\n",
            "Epoch 4/30\n",
            "15/15 [==============================] - 0s 3ms/step - loss: 0.3282 - accuracy: 0.8725\n",
            "Epoch 5/30\n",
            "15/15 [==============================] - 0s 3ms/step - loss: 0.2733 - accuracy: 0.9055\n",
            "Epoch 6/30\n",
            "15/15 [==============================] - 0s 3ms/step - loss: 0.2783 - accuracy: 0.9033\n",
            "Epoch 7/30\n",
            "15/15 [==============================] - 0s 4ms/step - loss: 0.4102 - accuracy: 0.8967\n",
            "Epoch 8/30\n",
            "15/15 [==============================] - 0s 4ms/step - loss: 0.3359 - accuracy: 0.8923\n",
            "Epoch 9/30\n",
            "15/15 [==============================] - 0s 3ms/step - loss: 0.3647 - accuracy: 0.8857\n",
            "Epoch 10/30\n",
            "15/15 [==============================] - 0s 3ms/step - loss: 0.3819 - accuracy: 0.8637\n",
            "Epoch 11/30\n",
            "15/15 [==============================] - 0s 3ms/step - loss: 0.3924 - accuracy: 0.8879\n",
            "Epoch 12/30\n",
            "15/15 [==============================] - 0s 3ms/step - loss: 0.3905 - accuracy: 0.8945\n",
            "Epoch 13/30\n",
            "15/15 [==============================] - 0s 3ms/step - loss: 0.2320 - accuracy: 0.9209\n",
            "Epoch 14/30\n",
            "15/15 [==============================] - 0s 3ms/step - loss: 0.2612 - accuracy: 0.9187\n",
            "Epoch 15/30\n",
            "15/15 [==============================] - 0s 3ms/step - loss: 0.4142 - accuracy: 0.8769\n",
            "Epoch 16/30\n",
            "15/15 [==============================] - 0s 3ms/step - loss: 0.3942 - accuracy: 0.8703\n",
            "Epoch 17/30\n",
            "15/15 [==============================] - 0s 4ms/step - loss: 0.2456 - accuracy: 0.9165\n",
            "Epoch 18/30\n",
            "15/15 [==============================] - 0s 3ms/step - loss: 0.2361 - accuracy: 0.9253\n",
            "Epoch 19/30\n",
            "15/15 [==============================] - 0s 3ms/step - loss: 0.2349 - accuracy: 0.9253\n",
            "Epoch 20/30\n",
            "15/15 [==============================] - 0s 3ms/step - loss: 0.3039 - accuracy: 0.9033\n",
            "Epoch 21/30\n",
            "15/15 [==============================] - 0s 3ms/step - loss: 0.1995 - accuracy: 0.9297\n",
            "Epoch 22/30\n",
            "15/15 [==============================] - 0s 3ms/step - loss: 0.3081 - accuracy: 0.8989\n",
            "Epoch 23/30\n",
            "15/15 [==============================] - 0s 3ms/step - loss: 0.6856 - accuracy: 0.8242\n",
            "Epoch 24/30\n",
            "15/15 [==============================] - 0s 3ms/step - loss: 0.2724 - accuracy: 0.8923\n",
            "Epoch 25/30\n",
            "15/15 [==============================] - 0s 4ms/step - loss: 0.2072 - accuracy: 0.9253\n",
            "Epoch 26/30\n",
            "15/15 [==============================] - 0s 3ms/step - loss: 0.2347 - accuracy: 0.9187\n",
            "Epoch 27/30\n",
            "15/15 [==============================] - 0s 3ms/step - loss: 0.3070 - accuracy: 0.8879\n",
            "Epoch 28/30\n",
            "15/15 [==============================] - 0s 3ms/step - loss: 0.2615 - accuracy: 0.9055\n",
            "Epoch 29/30\n",
            "15/15 [==============================] - 0s 3ms/step - loss: 0.1890 - accuracy: 0.9275\n",
            "Epoch 30/30\n",
            "15/15 [==============================] - 0s 3ms/step - loss: 0.2140 - accuracy: 0.9275\n"
          ]
        },
        {
          "output_type": "execute_result",
          "data": {
            "text/plain": [
              "<keras.callbacks.History at 0x7f88a1a104f0>"
            ]
          },
          "metadata": {},
          "execution_count": 25
        }
      ]
    },
    {
      "cell_type": "code",
      "source": [],
      "metadata": {
        "id": "RqAma2g6wpiI"
      },
      "execution_count": 25,
      "outputs": []
    },
    {
      "cell_type": "markdown",
      "source": [
        "RESULT\n"
      ],
      "metadata": {
        "id": "5Fd6wUZT1bd2"
      }
    },
    {
      "cell_type": "markdown",
      "source": [
        "FROM THE ABOVE 4 MODELS MODEL 4 HAS HIGHEST ACCURACY 92.7"
      ],
      "metadata": {
        "id": "4KstroLS11IE"
      }
    },
    {
      "cell_type": "code",
      "source": [],
      "metadata": {
        "id": "HTDABAjk1ufs"
      },
      "execution_count": null,
      "outputs": []
    }
  ]
}